{
 "cells": [
  {
   "cell_type": "markdown",
   "id": "6c9a4d61-51d4-4756-a064-3bd09ff1dae9",
   "metadata": {},
   "source": [
    "# Qiskit Fall Fest Kolkata Hackathon"
   ]
  },
  {
   "cell_type": "code",
   "execution_count": 1,
   "id": "c000006a-2b13-40a5-af7f-6b9fa335a11d",
   "metadata": {},
   "outputs": [],
   "source": [
    "# Essentials\n",
    "import matplotlib.pyplot as plt\n",
    "import numpy as np\n",
    "import pandas as pd\n",
    "\n",
    "# Classical Machine Learning\n",
    "from sklearn.svm import SVC\n",
    "from sklearn.datasets import make_blobs, make_circles\n",
    "from sklearn.cluster import SpectralClustering\n",
    "from sklearn.metrics import normalized_mutual_info_score, accuracy_score\n",
    "from sklearn.model_selection import train_test_split\n",
    "from sklearn.preprocessing import StandardScaler, MinMaxScaler\n",
    "\n",
    "# Quantum Machine Learning\n",
    "from qiskit import BasicAer\n",
    "from qiskit.circuit.library import ZZFeatureMap, ZFeatureMap, PauliFeatureMap\n",
    "from qiskit.utils import QuantumInstance, algorithm_globals\n",
    "from qiskit_machine_learning.algorithms import QSVC\n",
    "from qiskit_machine_learning.kernels import QuantumKernel"
   ]
  },
  {
   "cell_type": "code",
   "execution_count": 2,
   "id": "ecc98f00-c9c9-4297-9ae9-4faa45d16833",
   "metadata": {},
   "outputs": [],
   "source": [
    "dataset = pd.read_csv(r'iris_data\\iris.data')\n",
    "features_all= dataset.iloc[:, :4].values\n",
    "features_sepal= dataset.iloc[:, :2].values\n",
    "features_petal= dataset.iloc[:, 2:4].values\n",
    "label   = dataset.iloc[:, 4].values\n",
    "\n",
    "for i in range(len(label)):\n",
    "    if label[i] == 'Iris-setosa':\n",
    "        label[i] = 0\n",
    "    elif label[i] == 'Iris-versicolor':\n",
    "        label[i] = 1\n",
    "    elif label[i] == 'Iris-virginica':\n",
    "        label[i] = 2\n",
    "\n",
    "label = label.astype(str).astype(int)        "
   ]
  },
  {
   "cell_type": "markdown",
   "id": "6ae1f790-2c25-4312-9336-92f4bb42f749",
   "metadata": {},
   "source": [
    "## Classical Machine Learning"
   ]
  },
  {
   "cell_type": "markdown",
   "id": "580b4e50-a752-4d96-b105-1d1a5cca2e05",
   "metadata": {},
   "source": [
    "### All Features"
   ]
  },
  {
   "cell_type": "code",
   "execution_count": 3,
   "id": "0e5ba4ab-c2ce-4bb1-914c-fc2c98dc2008",
   "metadata": {},
   "outputs": [],
   "source": [
    "X_train, X_test, y_train, y_test = train_test_split(features_all, label, test_size=0.25, random_state=12)\n",
    "sc = StandardScaler()\n",
    "X_train = sc.fit_transform(X_train)\n",
    "X_test = sc.transform(X_test)\n",
    "\n",
    "# Normalize\n",
    "mms = MinMaxScaler((-1, 1))\n",
    "X_train = mms.fit_transform(X_train)\n",
    "X_test = mms.transform(X_test)"
   ]
  },
  {
   "cell_type": "code",
   "execution_count": 4,
   "id": "ff8fd996-3b58-4439-834f-6e240adb5b9a",
   "metadata": {},
   "outputs": [
    {
     "name": "stdout",
     "output_type": "stream",
     "text": [
      "Accuracy is 1.0\n"
     ]
    }
   ],
   "source": [
    "clf = SVC(kernel=\"linear\", random_state=2)\n",
    "clf.fit(X_train, y_train)\n",
    "y_pred = clf.predict(X_test)\n",
    "\n",
    "print(\"Accuracy is\", accuracy_score(y_test, y_pred))"
   ]
  },
  {
   "cell_type": "markdown",
   "id": "b2eefc4f-bd06-4b2a-b99f-a2c349ac3b95",
   "metadata": {},
   "source": [
    "### Sepals"
   ]
  },
  {
   "cell_type": "code",
   "execution_count": 36,
   "id": "39214911-5670-4233-80ac-c6e43393361e",
   "metadata": {},
   "outputs": [],
   "source": [
    "X_train, X_test, y_train, y_test = train_test_split(features_sepal, label, test_size=0.25, random_state=12)\n",
    "sc = StandardScaler()\n",
    "X_train = sc.fit_transform(X_train)\n",
    "X_test = sc.transform(X_test)\n",
    "\n",
    "# Normalize\n",
    "mms = MinMaxScaler((-1, 1))\n",
    "X_train = mms.fit_transform(X_train)\n",
    "X_test = mms.transform(X_test)"
   ]
  },
  {
   "cell_type": "code",
   "execution_count": 37,
   "id": "2c452531-9f67-4a0c-915a-bc641517c83e",
   "metadata": {},
   "outputs": [
    {
     "name": "stdout",
     "output_type": "stream",
     "text": [
      "Accuracy is 0.8157894736842105\n"
     ]
    }
   ],
   "source": [
    "clf = SVC(kernel=\"rbf\", random_state=2)\n",
    "clf.fit(X_train, y_train)\n",
    "y_pred = clf.predict(X_test)\n",
    "\n",
    "print(\"Accuracy is\", accuracy_score(y_test, y_pred))"
   ]
  },
  {
   "cell_type": "markdown",
   "id": "a554aa5b-f038-4896-8819-428adf61d68e",
   "metadata": {},
   "source": [
    "### Petals"
   ]
  },
  {
   "cell_type": "code",
   "execution_count": 20,
   "id": "03e8d2f4-0934-4519-aa0d-b66b0fd47f08",
   "metadata": {},
   "outputs": [],
   "source": [
    "X_train, X_test, y_train, y_test = train_test_split(features_petal, label, test_size=0.25, random_state=12)\n",
    "sc = StandardScaler()\n",
    "X_train = sc.fit_transform(X_train)\n",
    "X_test = sc.transform(X_test)\n",
    "\n",
    "# Normalize\n",
    "mms = MinMaxScaler((-1, 1))\n",
    "X_train = mms.fit_transform(X_train)\n",
    "X_test = mms.transform(X_test)"
   ]
  },
  {
   "cell_type": "code",
   "execution_count": 21,
   "id": "cd9d5631-8cae-40ca-b4b3-7acdb61cf2c8",
   "metadata": {},
   "outputs": [
    {
     "name": "stdout",
     "output_type": "stream",
     "text": [
      "Accuracy is 1.0\n"
     ]
    }
   ],
   "source": [
    "clf = SVC(kernel=\"linear\", random_state=2)\n",
    "clf.fit(X_train, y_train)\n",
    "y_pred = clf.predict(X_test)\n",
    "\n",
    "print(\"Accuracy is\", accuracy_score(y_test, y_pred))"
   ]
  },
  {
   "cell_type": "markdown",
   "id": "b3594fa1-d680-4c25-a39f-e808d26feec6",
   "metadata": {},
   "source": [
    "## Quantum Machine Learning"
   ]
  },
  {
   "cell_type": "code",
   "execution_count": 43,
   "id": "5eef59e0-f788-4455-955d-ef29aaa83c41",
   "metadata": {},
   "outputs": [],
   "source": [
    "feature_map = ZZFeatureMap(feature_dimension=2, reps=2, entanglement='linear')\n",
    "backend = QuantumInstance(BasicAer.get_backend('qasm_simulator'), shots=8000)\n",
    "kernel = QuantumKernel(feature_map=feature_map, quantum_instance=backend)"
   ]
  },
  {
   "cell_type": "code",
   "execution_count": 44,
   "id": "645bc5af-6852-4a2f-9799-215b2474a019",
   "metadata": {},
   "outputs": [],
   "source": [
    "X_train, X_test, y_train, y_test = train_test_split(features_all, label, test_size=0.25, random_state=12)\n",
    "sc = StandardScaler()\n",
    "X_train = sc.fit_transform(X_train)\n",
    "X_test = sc.transform(X_test)\n",
    "\n",
    "# Normalize\n",
    "mms = MinMaxScaler((-1, 1))\n",
    "X_train = mms.fit_transform(X_train)\n",
    "X_test = mms.transform(X_test)"
   ]
  },
  {
   "cell_type": "code",
   "execution_count": 45,
   "id": "7825f025-3e1e-4643-92a8-b6256c56aada",
   "metadata": {},
   "outputs": [
    {
     "name": "stdout",
     "output_type": "stream",
     "text": [
      "Accuracy is 0.8157894736842105\n"
     ]
    }
   ],
   "source": [
    "clf = SVC(kernel=kernel.evaluate)\n",
    "clf.fit(X_train, y_train)\n",
    "y_pred = clf.predict(X_test)\n",
    "\n",
    "print(\"Accuracy is\", accuracy_score(y_test, y_pred))"
   ]
  },
  {
   "cell_type": "markdown",
   "id": "6179d955-316c-4e73-af14-99f8ea1610ab",
   "metadata": {},
   "source": [
    "### Sepals"
   ]
  },
  {
   "cell_type": "code",
   "execution_count": 46,
   "id": "2940ca2e-e1b3-424f-aa7f-d94faec82871",
   "metadata": {},
   "outputs": [],
   "source": [
    "X_train, X_test, y_train, y_test = train_test_split(features_sepal, label, test_size=0.25, random_state=12)\n",
    "sc = StandardScaler()\n",
    "X_train = sc.fit_transform(X_train)\n",
    "X_test = sc.transform(X_test)\n",
    "\n",
    "# Normalize\n",
    "mms = MinMaxScaler((-1, 1))\n",
    "X_train = mms.fit_transform(X_train)\n",
    "X_test = mms.transform(X_test)"
   ]
  },
  {
   "cell_type": "code",
   "execution_count": 47,
   "id": "ad195f1e-7868-4877-a418-0d0af2ea8bb5",
   "metadata": {},
   "outputs": [
    {
     "name": "stdout",
     "output_type": "stream",
     "text": [
      "Accuracy is 0.8157894736842105\n"
     ]
    }
   ],
   "source": [
    "clf = SVC(kernel=\"rbf\", random_state=2)\n",
    "clf.fit(X_train, y_train)\n",
    "y_pred = clf.predict(X_test)\n",
    "\n",
    "print(\"Accuracy is\", accuracy_score(y_test, y_pred))"
   ]
  },
  {
   "cell_type": "markdown",
   "id": "136b1b74-2abb-47d2-a63d-0c29f0ad73cb",
   "metadata": {},
   "source": [
    "### Petals"
   ]
  },
  {
   "cell_type": "code",
   "execution_count": 48,
   "id": "33543940-abb2-4063-aa16-e7934e120873",
   "metadata": {},
   "outputs": [],
   "source": [
    "X_train, X_test, y_train, y_test = train_test_split(features_petal, label, test_size=0.25, random_state=12)\n",
    "sc = StandardScaler()\n",
    "X_train = sc.fit_transform(X_train)\n",
    "X_test = sc.transform(X_test)\n",
    "\n",
    "# Normalize\n",
    "mms = MinMaxScaler((-1, 1))\n",
    "X_train = mms.fit_transform(X_train)\n",
    "X_test = mms.transform(X_test)"
   ]
  },
  {
   "cell_type": "code",
   "execution_count": 49,
   "id": "f814977a-c803-47fc-a738-7681456b3909",
   "metadata": {},
   "outputs": [
    {
     "name": "stdout",
     "output_type": "stream",
     "text": [
      "Accuracy is 1.0\n"
     ]
    }
   ],
   "source": [
    "clf = SVC(kernel=\"linear\", random_state=2)\n",
    "clf.fit(X_train, y_train)\n",
    "y_pred = clf.predict(X_test)\n",
    "\n",
    "print(\"Accuracy is\", accuracy_score(y_test, y_pred))"
   ]
  },
  {
   "cell_type": "markdown",
   "id": "a6531d41-78fb-430d-aa74-66e0d1ddb906",
   "metadata": {},
   "source": [
    "## QSVM using Noise Models"
   ]
  },
  {
   "cell_type": "code",
   "execution_count": null,
   "id": "5cf22776-6ff6-4809-86e1-e177a58a896e",
   "metadata": {},
   "outputs": [],
   "source": []
  }
 ],
 "metadata": {
  "kernelspec": {
   "display_name": "Python 3 (ipykernel)",
   "language": "python",
   "name": "python3"
  },
  "language_info": {
   "codemirror_mode": {
    "name": "ipython",
    "version": 3
   },
   "file_extension": ".py",
   "mimetype": "text/x-python",
   "name": "python",
   "nbconvert_exporter": "python",
   "pygments_lexer": "ipython3",
   "version": "3.10.6"
  }
 },
 "nbformat": 4,
 "nbformat_minor": 5
}
