{
 "cells": [
  {
   "cell_type": "code",
   "execution_count": 1,
   "id": "b4c7cc6a",
   "metadata": {},
   "outputs": [],
   "source": [
    "import numpy as np\n",
    "from qiskit import QuantumCircuit, Aer\n",
    "import matplotlib.pyplot as plt"
   ]
  },
  {
   "cell_type": "code",
   "execution_count": 2,
   "id": "a9876984",
   "metadata": {},
   "outputs": [
    {
     "name": "stdin",
     "output_type": "stream",
     "text": [
      " ZACK\n"
     ]
    },
    {
     "name": "stdout",
     "output_type": "stream",
     "text": [
      "[ 0 25 23 15]\n",
      "[0.         3.14159265 2.56807955 1.77215425]\n"
     ]
    }
   ],
   "source": [
    "angles = np.array([ord(\"Z\")-ord(i) for i in input().upper()])\n",
    "print(angles)\n",
    "angles = 2*np.arcsin(np.sqrt(angles/25))\n",
    "print(angles)\n",
    "n = len(angles)"
   ]
  },
  {
   "cell_type": "code",
   "execution_count": 3,
   "id": "bac7dbb5",
   "metadata": {},
   "outputs": [
    {
     "data": {
      "text/html": [
       "<pre style=\"word-wrap: normal;white-space: pre;background: #fff0;line-height: 1.1;font-family: &quot;Courier New&quot;,Courier,monospace\">       ┌───────┐   \n",
       "q_0: ──┤ Ry(0) ├───\n",
       "       ├───────┤   \n",
       "q_1: ──┤ Ry(π) ├───\n",
       "     ┌─┴───────┴──┐\n",
       "q_2: ┤ Ry(2.5681) ├\n",
       "     ├────────────┤\n",
       "q_3: ┤ Ry(1.7722) ├\n",
       "     └────────────┘\n",
       "c_0: ══════════════\n",
       "                   \n",
       "c_1: ══════════════\n",
       "                   \n",
       "c_2: ══════════════\n",
       "                   \n",
       "c_3: ══════════════\n",
       "                   </pre>"
      ],
      "text/plain": [
       "       ┌───────┐   \n",
       "q_0: ──┤ Ry(0) ├───\n",
       "       ├───────┤   \n",
       "q_1: ──┤ Ry(π) ├───\n",
       "     ┌─┴───────┴──┐\n",
       "q_2: ┤ Ry(2.5681) ├\n",
       "     ├────────────┤\n",
       "q_3: ┤ Ry(1.7722) ├\n",
       "     └────────────┘\n",
       "c_0: ══════════════\n",
       "                   \n",
       "c_1: ══════════════\n",
       "                   \n",
       "c_2: ══════════════\n",
       "                   \n",
       "c_3: ══════════════\n",
       "                   "
      ]
     },
     "execution_count": 3,
     "metadata": {},
     "output_type": "execute_result"
    }
   ],
   "source": [
    "qc = QuantumCircuit(n,n)\n",
    "for i in range(len(angles)):\n",
    "    qc.ry(angles[i],i)\n",
    "qc.draw()"
   ]
  },
  {
   "cell_type": "code",
   "execution_count": 4,
   "id": "9e691570",
   "metadata": {},
   "outputs": [
    {
     "data": {
      "text/html": [
       "<pre style=\"word-wrap: normal;white-space: pre;background: #fff0;line-height: 1.1;font-family: &quot;Courier New&quot;,Courier,monospace\">       ┌───────┐   ┌─┐         \n",
       "q_0: ──┤ Ry(0) ├───┤M├─────────\n",
       "       ├───────┤   └╥┘┌─┐      \n",
       "q_1: ──┤ Ry(π) ├────╫─┤M├──────\n",
       "     ┌─┴───────┴──┐ ║ └╥┘┌─┐   \n",
       "q_2: ┤ Ry(2.5681) ├─╫──╫─┤M├───\n",
       "     ├────────────┤ ║  ║ └╥┘┌─┐\n",
       "q_3: ┤ Ry(1.7722) ├─╫──╫──╫─┤M├\n",
       "     └────────────┘ ║  ║  ║ └╥┘\n",
       "c_0: ═══════════════╩══╬══╬══╬═\n",
       "                       ║  ║  ║ \n",
       "c_1: ══════════════════╩══╬══╬═\n",
       "                          ║  ║ \n",
       "c_2: ═════════════════════╩══╬═\n",
       "                             ║ \n",
       "c_3: ════════════════════════╩═\n",
       "                               </pre>"
      ],
      "text/plain": [
       "       ┌───────┐   ┌─┐         \n",
       "q_0: ──┤ Ry(0) ├───┤M├─────────\n",
       "       ├───────┤   └╥┘┌─┐      \n",
       "q_1: ──┤ Ry(π) ├────╫─┤M├──────\n",
       "     ┌─┴───────┴──┐ ║ └╥┘┌─┐   \n",
       "q_2: ┤ Ry(2.5681) ├─╫──╫─┤M├───\n",
       "     ├────────────┤ ║  ║ └╥┘┌─┐\n",
       "q_3: ┤ Ry(1.7722) ├─╫──╫──╫─┤M├\n",
       "     └────────────┘ ║  ║  ║ └╥┘\n",
       "c_0: ═══════════════╩══╬══╬══╬═\n",
       "                       ║  ║  ║ \n",
       "c_1: ══════════════════╩══╬══╬═\n",
       "                          ║  ║ \n",
       "c_2: ═════════════════════╩══╬═\n",
       "                             ║ \n",
       "c_3: ════════════════════════╩═\n",
       "                               "
      ]
     },
     "execution_count": 4,
     "metadata": {},
     "output_type": "execute_result"
    }
   ],
   "source": [
    "#for i in range(len(angles)):\n",
    "#    qc.ry(-angles[i],i)\n",
    "qc.measure(range(4),range(4))\n",
    "qc.draw()"
   ]
  },
  {
   "cell_type": "code",
   "execution_count": 5,
   "id": "2ee1d76e",
   "metadata": {},
   "outputs": [],
   "source": [
    "backend_sim = Aer.get_backend('qasm_simulator')\n",
    "job_sim = backend_sim.run(qc, shots=1024)\n",
    "result_sim = job_sim.result()"
   ]
  },
  {
   "cell_type": "code",
   "execution_count": 6,
   "id": "c146f3e9",
   "metadata": {},
   "outputs": [],
   "source": [
    "counts = result_sim.get_counts()"
   ]
  },
  {
   "cell_type": "code",
   "execution_count": 7,
   "id": "845fe839",
   "metadata": {},
   "outputs": [
    {
     "name": "stdout",
     "output_type": "stream",
     "text": [
      "ZACK\n"
     ]
    }
   ],
   "source": [
    "arr = [0 for _ in range(n)]\n",
    "for state, count in counts.items():\n",
    "    state = state[::-1]\n",
    "    for i in range(n):\n",
    "        arr[i] += int(state[i])*count/1024\n",
    "        \n",
    "output = \"\"\n",
    "for i in range(n):\n",
    "    output += chr(ord(\"A\")+25-int(round(arr[i]*25,0)))\n",
    "print(output)"
   ]
  }
 ],
 "metadata": {
  "kernelspec": {
   "display_name": "Python 3 (ipykernel)",
   "language": "python",
   "name": "python3"
  },
  "language_info": {
   "codemirror_mode": {
    "name": "ipython",
    "version": 3
   },
   "file_extension": ".py",
   "mimetype": "text/x-python",
   "name": "python",
   "nbconvert_exporter": "python",
   "pygments_lexer": "ipython3",
   "version": "3.10.6"
  }
 },
 "nbformat": 4,
 "nbformat_minor": 5
}
